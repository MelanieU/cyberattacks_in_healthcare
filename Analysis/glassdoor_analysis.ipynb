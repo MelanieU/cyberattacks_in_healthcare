{
 "cells": [
  {
   "cell_type": "code",
   "execution_count": 2,
   "metadata": {},
   "outputs": [],
   "source": [
    "import pandas as pd\n",
    "import re\n",
    "import numpy as np\n",
    "from matplotlib import pyplot as plt\n",
    "plt.style.use('ggplot')"
   ]
  },
  {
   "cell_type": "markdown",
   "metadata": {},
   "source": [
    "## glassdoor data cleaning"
   ]
  },
  {
   "cell_type": "code",
   "execution_count": 9,
   "metadata": {},
   "outputs": [
    {
     "data": {
      "text/html": [
       "<div>\n",
       "<style scoped>\n",
       "    .dataframe tbody tr th:only-of-type {\n",
       "        vertical-align: middle;\n",
       "    }\n",
       "\n",
       "    .dataframe tbody tr th {\n",
       "        vertical-align: top;\n",
       "    }\n",
       "\n",
       "    .dataframe thead th {\n",
       "        text-align: right;\n",
       "    }\n",
       "</style>\n",
       "<table border=\"1\" class=\"dataframe\">\n",
       "  <thead>\n",
       "    <tr style=\"text-align: right;\">\n",
       "      <th></th>\n",
       "      <th>0</th>\n",
       "    </tr>\n",
       "  </thead>\n",
       "  <tbody>\n",
       "    <tr>\n",
       "      <th>0</th>\n",
       "      <td>1 to 50</td>\n",
       "    </tr>\n",
       "    <tr>\n",
       "      <th>1</th>\n",
       "      <td>51 to 200</td>\n",
       "    </tr>\n",
       "    <tr>\n",
       "      <th>2</th>\n",
       "      <td>5001 to 10000</td>\n",
       "    </tr>\n",
       "    <tr>\n",
       "      <th>3</th>\n",
       "      <td>501 to 1000</td>\n",
       "    </tr>\n",
       "    <tr>\n",
       "      <th>4</th>\n",
       "      <td>10000+</td>\n",
       "    </tr>\n",
       "    <tr>\n",
       "      <th>5</th>\n",
       "      <td>1001 to 5000</td>\n",
       "    </tr>\n",
       "    <tr>\n",
       "      <th>6</th>\n",
       "      <td>201 to 500</td>\n",
       "    </tr>\n",
       "  </tbody>\n",
       "</table>\n",
       "</div>"
      ],
      "text/plain": [
       "                0\n",
       "0        1 to 50 \n",
       "1      51 to 200 \n",
       "2  5001 to 10000 \n",
       "3    501 to 1000 \n",
       "4         10000+ \n",
       "5   1001 to 5000 \n",
       "6     201 to 500 "
      ]
     },
     "execution_count": 9,
     "metadata": {},
     "output_type": "execute_result"
    }
   ],
   "source": [
    "glassdoor = pd.read_csv('glassdoor.csv')\n",
    "## company column: remove 'Company - '\n",
    "glassdoor['company'].replace(regex = True, inplace=True,to_replace='Company -', value='')\n",
    "\n",
    "## revenue column: extract numbers + million/billion\n",
    "#  % timeit: list comprehension, then apply function\n",
    "\n",
    "glassdoor['revenue'] = [x.strip('\\(USD\\) per year | per year') for x in glassdoor.revenue]\n",
    "glassdoor['revenue'] = glassdoor.revenue.apply(lambda x: x.replace('to', '-'))\n",
    "\n",
    "glassdoor['min_USD'] = glassdoor.revenue.str.extract(\"(million)\", expand = True)\n",
    "glassdoor['max_USD'] = glassdoor.revenue.str.extract(\"(billion)\", expand=True)\n",
    "glassdoor['max_USD'] = glassdoor.max_USD.fillna(value=glassdoor.min_USD)\n",
    "glassdoor['min_USD'] = glassdoor.max_USD.fillna(value=glassdoor.max_USD)\n",
    "glassdoor['revenue'] = [x.strip(' million | billion') for x in glassdoor.revenue]\n",
    "\n",
    "glassdoor['revenue'].replace(regex=True, inplace=True, to_replace='[$]', value=\"\")\n",
    "glassdoor['revenue'].replace(inplace=True, to_replace=['Less than 1'], value='1')\n",
    "glassdoor['revenue'].replace(regex=True, inplace=True, to_replace='[+]', value=\"\")\n",
    "glassdoor['revenue'].replace(inplace=True, to_replace='500 million - 1', value='500-1')\n",
    "\n",
    "glassdoor['revenue'].replace(inplace=True, to_replace=('known / Non-Applica'), value = np.nan)\n",
    "\n",
    "glassdoor['min'] = glassdoor.revenue.str.extract('(\\d+)', expand = True)\n",
    "\n",
    "     \n",
    "## size column: extract numbers\n",
    "glassdoor['size'].replace(regex=True, inplace=True, to_replace=('employees'), value='')\n",
    "# title column: remove Overview\n",
    "glassdoor['title'].replace(regex=True, inplace=True, to_replace=('Overview'), value='')\n",
    "\n",
    "glassdoor.columns = ['company', 'industry', 'revenue', 'employees', 'name', 'min_USD', 'max_USD',\n",
    "       'min']\n",
    "\n",
    "#glassdoor.to_csv('glassdoor_cleaned.csv')\n"
   ]
  },
  {
   "cell_type": "markdown",
   "metadata": {},
   "source": [
    "## revenue by category and employee"
   ]
  },
  {
   "cell_type": "code",
   "execution_count": 14,
   "metadata": {},
   "outputs": [
    {
     "data": {
      "text/plain": [
       "<matplotlib.legend.Legend at 0x1136166d8>"
      ]
     },
     "execution_count": 14,
     "metadata": {},
     "output_type": "execute_result"
    },
    {
     "data": {
      "image/png": "[encoded data removed]",
      "text/plain": [
       "<matplotlib.figure.Figure at 0x11b30cba8>"
      ]
     },
     "metadata": {},
     "output_type": "display_data"
    }
   ],
   "source": [
    "# Attacks by employees in hospitals\n",
    "hospitals_grouped = pd.DataFrame({'employees':['1 to 50','51 to 200', '201 to 500','501 to 1000', '1001 to 5000', '5001 to 10000', '1000+'],\n",
    "                                 'Number Attacks': [0, 2, 0, 2, 7, 2,0]})\n",
    "hospitals_grouped['Hospital'] = (hospitals_grouped['Number Attacks']*100)/61\n",
    "\n",
    "\n",
    "hospitals_grouped.set_index('employees')['Hospital'].plot.barh(color = ['#bb5179'], rot = 0, fontsize=12).set_facecolor('white')\n",
    "\n",
    "\n",
    "# Attacks by employees in privat comp\n",
    "privat_grouped = pd.DataFrame({'employees':['1 to 50','51 to 200', '201 to 500','501 to 1000', '1001 to 5000', '5001 to 10000', '1000+'],\n",
    "                                'Number Attacks': [8, 6, 2, 2, 4, 2,0]})\n",
    "privat_grouped['Private'] = (privat_grouped['Number Attacks']*100)/61\n",
    "\n",
    "privat_grouped.set_index('employees')['Private'].plot.barh(color = ['#00ffdf'], rot = 0, fontsize=12).set_facecolor('white')\n",
    "\n",
    "\n",
    "# Attacks by employees in nonprofits\n",
    "nonprofits_grouped = pd.DataFrame({'employees':['1 to 50','51 to 200', '201 to 500','501 to 1000', '1001 to 5000', '5001 to 10000', '1000+'],\n",
    "                                   'Number Attacks': [1, 2, 2, 2, 5, 5,7]})\n",
    "nonprofits_grouped['Nonprofit'] = (nonprofits_grouped['Number Attacks']*100)/61\n",
    "\n",
    "nonprofits_grouped.set_index('employees')['Nonprofit'].plot.barh(color = ['#3c00ff'], rot = 0, fontsize=12).set_facecolor('white')\n",
    "\n",
    "plt.xlabel('Attacks (%)')\n",
    "plt.legend(loc='best')\n"
   ]
  },
  {
   "cell_type": "code",
   "execution_count": 11,
   "metadata": {},
   "outputs": [
    {
     "data": {
      "text/plain": [
       "<matplotlib.legend.Legend at 0x111b9c128>"
      ]
     },
     "execution_count": 11,
     "metadata": {},
     "output_type": "execute_result"
    },
    {
     "data": {
      "image/png": "[encoded data removed]",
      "text/plain": [
       "<matplotlib.figure.Figure at 0x112fccb70>"
      ]
     },
     "metadata": {},
     "output_type": "display_data"
    }
   ],
   "source": [
    "# Attacks by employees in hospitals\n",
    "hospitals_grouped = pd.DataFrame({'employees':['1 to 50','51 to 200', '201 to 500','501 to 1000', '1001 to 5000', '5001 to 10000', '1000+'],\n",
    "                                 'Number Attacks': [0, 2, 0, 2, 7, 2,0]})\n",
    "hospitals_grouped['Hospital'] = (hospitals_grouped['Number Attacks']*100)/13\n",
    "\n",
    "\n",
    "hospitals_grouped.set_index('employees')['Hospital'].plot.barh(color = ['#bb5179'], rot = 0, fontsize=12).set_facecolor('white')\n",
    "\n",
    "\n",
    "\n",
    "plt.xlabel('Attacks (%)')\n",
    "plt.legend(loc='best')\n"
   ]
  },
  {
   "cell_type": "code",
   "execution_count": 12,
   "metadata": {},
   "outputs": [
    {
     "data": {
      "text/plain": [
       "<matplotlib.legend.Legend at 0x1134b36d8>"
      ]
     },
     "execution_count": 12,
     "metadata": {},
     "output_type": "execute_result"
    },
    {
     "data": {
      "image/png": "[encoded data removed]",
      "text/plain": [
       "<matplotlib.figure.Figure at 0x112f51e80>"
      ]
     },
     "metadata": {},
     "output_type": "display_data"
    }
   ],
   "source": [
    "\n",
    "\n",
    "# Attacks by employees in privat comp\n",
    "privat_grouped = pd.DataFrame({'employees':['1 to 50','51 to 200', '201 to 500','501 to 1000', '1001 to 5000', '5001 to 10000', '1000+'],\n",
    "                                'Number Attacks': [8, 6, 2, 2, 4, 2,0]})\n",
    "privat_grouped['Private'] = (privat_grouped['Number Attacks']*100)/24\n",
    "\n",
    "privat_grouped.set_index('employees')['Private'].plot.barh(color = ['#00ffdf'], rot = 0, fontsize=12).set_facecolor('white')\n",
    "\n",
    "\n",
    "\n",
    "plt.xlabel('Attacks (%)')\n",
    "plt.legend(loc='best')\n"
   ]
  },
  {
   "cell_type": "code",
   "execution_count": 13,
   "metadata": {},
   "outputs": [
    {
     "data": {
      "text/plain": [
       "<matplotlib.legend.Legend at 0x1134610f0>"
      ]
     },
     "execution_count": 13,
     "metadata": {},
     "output_type": "execute_result"
    },
    {
     "data": {
      "image/png": "[encoded data removed]",
      "text/plain": [
       "<matplotlib.figure.Figure at 0x112f1ec88>"
      ]
     },
     "metadata": {},
     "output_type": "display_data"
    }
   ],
   "source": [
    "\n",
    "\n",
    "# Attacks by employees in nonprofits\n",
    "nonprofits_grouped = pd.DataFrame({'employees':['1 to 50','51 to 200', '201 to 500','501 to 1000', '1001 to 5000', '5001 to 10000', '1000+'],\n",
    "                                   'Number Attacks': [1, 2, 2, 2, 5, 5,7]})\n",
    "nonprofits_grouped['Nonprofit'] = (nonprofits_grouped['Number Attacks']*100)/24\n",
    "\n",
    "nonprofits_grouped.set_index('employees')['Nonprofit'].plot.barh(color = ['#3c00ff'], rot = 0, fontsize=12).set_facecolor('white')\n",
    "\n",
    "plt.xlabel('Attacks (%)')\n",
    "plt.legend(loc='best')\n"
   ]
  },
  {
   "cell_type": "code",
   "execution_count": null,
   "metadata": {},
   "outputs": [],
   "source": []
  },
  {
   "cell_type": "markdown",
   "metadata": {},
   "source": [
    "## attacks by category and revenue"
   ]
  },
  {
   "cell_type": "code",
   "execution_count": 15,
   "metadata": {},
   "outputs": [
    {
     "data": {
      "text/plain": [
       "<matplotlib.legend.Legend at 0x11b33e3c8>"
      ]
     },
     "execution_count": 15,
     "metadata": {},
     "output_type": "execute_result"
    },
    {
     "data": {
      "image/png": "[encoded data removed]",
      "text/plain": [
       "<matplotlib.figure.Figure at 0x11b3270f0>"
      ]
     },
     "metadata": {},
     "output_type": "display_data"
    }
   ],
   "source": [
    "###### Attacks by employees in hospitals\n",
    "hospitals_grouped = pd.DataFrame({'Revenue':['1 to 10 million','11 to 50 million', '51 to 100 million','101 to 500 million', '501 to 1000 million', 'above 1 billion'],\n",
    "                                 'Number Attacks': [2, 0, 1, 6, 1, 0]})\n",
    "hospitals_grouped['Hospital'] = (hospitals_grouped['Number Attacks']*100)/47\n",
    "\n",
    "\n",
    "\n",
    "hospitals_grouped.set_index('Revenue')['Hospital'].plot.barh(color = ['#bb5179'], rot = 0, fontsize=12).set_facecolor('white')\n",
    "\n",
    "\n",
    "# Attacks by employees in privat comp\n",
    "privat_grouped = pd.DataFrame({'Revenue':['1 to 10 million','11 to 50 million', '51 to 100 million','101 to 500 million', '501 to 1000 million', 'above 1 billion'],\n",
    "                                'Number Attacks': [8, 4, 0, 4, 1, 0]})\n",
    "privat_grouped['Private'] = (privat_grouped['Number Attacks']*100)/47\n",
    "\n",
    "privat_grouped.set_index('Revenue')['Private'].plot.barh(color = ['#00ffdf'], rot = 0, fontsize=12).set_facecolor('white')\n",
    "\n",
    "\n",
    "# Attacks by employees in nonprofits\n",
    "nonprofits_grouped = pd.DataFrame({'Revenue':['1 to 10 million','11 to 50 million', '51 to 100 million','101 to 500 million', '501 to 1000 million', 'above 1 billion'],\n",
    "                                   'Number Attacks': [4, 1, 2, 4, 5, 4]})\n",
    "nonprofits_grouped['Nonprofit'] = (nonprofits_grouped['Number Attacks']*100)/47\n",
    "\n",
    "nonprofits_grouped.set_index('Revenue')['Nonprofit'].plot.barh(color = ['#3c00ff'], rot = 0, fontsize=12).set_facecolor('white')\n",
    "\n",
    "plt.xlabel('Attacks (%)')\n",
    "\n",
    "plt.legend(loc='best')"
   ]
  },
  {
   "cell_type": "code",
   "execution_count": null,
   "metadata": {},
   "outputs": [],
   "source": [
    "# table for cyber attacks by company and employee\n",
    "glassdoor['company'] = glassdoor['company'].fillna('')\n",
    "glassdoor['company'] = glassdoor['company'].apply(lambda x: re.sub('\\s+', ' ', x))\n",
    "glassdoor['company']  = glassdoor.company.astype('str')\n",
    "\n",
    "df = glassdoor.groupby(['company','revenue_range'])['industry'].count()\n",
    "df = pd.DataFrame(df)\n",
    "df.columns = ['Number Attacks']\n",
    "df"
   ]
  },
  {
   "cell_type": "markdown",
   "metadata": {},
   "source": [
    "## attacks by employee (%)"
   ]
  },
  {
   "cell_type": "code",
   "execution_count": 6,
   "metadata": {},
   "outputs": [],
   "source": [
    "# better version with perc as y axis\n",
    "glassdoor_employee_perc = glassdoor.groupby('employees').agg({\"company\": \"count\"})\n",
    "glassdoor_employee_perc['perc'] = (glassdoor_employee_perc['company']*100)/76\n",
    "\n",
    "#df for custom order\n",
    "new_df = pd.DataFrame({'Employees': ['1 to 50','51 to 200','201 to 500','501 to 1000','1001 to 5000', '5001 to 10000','10000 +'],\n",
    "           'Attacks (%)': [13,13,4,9,18,9,10]})\n",
    "\n",
    "plot\n",
    "new_df.set_index('Employees').plot.barh(color = '#dc1f7d')\n",
    "ax = plt.gca()\n",
    "ax.set_facecolor('white')\n",
    "plt.xlabel('Attacks (%)')\n",
    "plt.legend('')\n",
    "\n",
    "#plt.savefig('attacks_employee.png')"
   ]
  },
  {
   "cell_type": "markdown",
   "metadata": {},
   "source": [
    "## attacks by revenue (%)"
   ]
  },
  {
   "cell_type": "code",
   "execution_count": null,
   "metadata": {},
   "outputs": [],
   "source": [
    "# define function to ctageorize revenue range\n",
    "\n",
    "def grouping(row):\n",
    "    if row['min'] == '1' and row['max_USD'] == 'billion':\n",
    "        return 'above 1 billion'\n",
    "    \n",
    "    if row['min'] == '100':\n",
    "        return '100 to 500 million'\n",
    "    \n",
    "    if row['min'] == '500':\n",
    "        return '500 to 1000 million'\n",
    "        \n",
    "    if row['min'] == '1' and row[\"max_USD\"] == 'million':\n",
    "        return '1 to 10 million'\n",
    "    \n",
    "    if row['min'] == '50':\n",
    "        return '50 to 100 million'\n",
    "    \n",
    "    if row['min'] == '10' or row['min'] == '25':\n",
    "        return '10 to 50 million'\n",
    "    \n",
    "    if pd.isna(row['min']):\n",
    "        return np.nan\n",
    "    \n",
    "    else:\n",
    "        return '1 to 10 million'"
   ]
  },
  {
   "cell_type": "code",
   "execution_count": null,
   "metadata": {},
   "outputs": [],
   "source": [
    "# apply function to dataset\n",
    "glassdoor['revenue_range'] = glassdoor.apply(lambda row: grouping(row), axis = 1)"
   ]
  },
  {
   "cell_type": "code",
   "execution_count": 123,
   "metadata": {},
   "outputs": [
    {
     "data": {
      "text/plain": [
       "<matplotlib.legend.Legend at 0x1a1815a518>"
      ]
     },
     "execution_count": 123,
     "metadata": {},
     "output_type": "execute_result"
    },
    {
     "data": {
      "image/png": "[encoded data removed]",
      "text/plain": [
       "<matplotlib.figure.Figure at 0x1a1815a898>"
      ]
     },
     "metadata": {},
     "output_type": "display_data"
    }
   ],
   "source": [
    "# define new column\n",
    "glassdoor_revenue_perc = glassdoor.groupby('revenue_range').agg({\"company\": \"count\"})\n",
    "glassdoor_revenue_perc['perc'] = (glassdoor_revenue_perc['company']*100)/56\n",
    "\n",
    "#df for custom order\n",
    "new_df_r = pd.DataFrame({'Revenue':['1 to 10 million','11 to 50 million','51 to 100 million','101 to 500 million','501 to 1 billion','1 billion +'],\n",
    "                         'attacks (%)': [29, 18,27,5,14,7]\n",
    "                        })\n",
    "new_df_r.set_index('Revenue').plot.barh(color='#7e1fdc')\n",
    "ax = plt.gca()\n",
    "ax.set_facecolor('white')\n",
    "plt.xlabel('Attacks (%)')\n",
    "\n",
    "plt.legend('')\n",
    "\n",
    "#plt.savefig('attacks_revenue.png')"
   ]
  },
  {
   "cell_type": "markdown",
   "metadata": {},
   "source": [
    "## chi square employees revenue"
   ]
  },
  {
   "cell_type": "code",
   "execution_count": 122,
   "metadata": {},
   "outputs": [
    {
     "data": {
      "text/plain": [
       "(70.12194444444444,\n",
       " 4.675674052203182e-05,\n",
       " 30,\n",
       " array([[2.85714286, 2.57142857, 4.28571429, 0.57142857, 2.        ,\n",
       "         1.42857143, 2.28571429],\n",
       "        [1.78571429, 1.60714286, 2.67857143, 0.35714286, 1.25      ,\n",
       "         0.89285714, 1.42857143],\n",
       "        [2.67857143, 2.41071429, 4.01785714, 0.53571429, 1.875     ,\n",
       "         1.33928571, 2.14285714],\n",
       "        [0.53571429, 0.48214286, 0.80357143, 0.10714286, 0.375     ,\n",
       "         0.26785714, 0.42857143],\n",
       "        [1.42857143, 1.28571429, 2.14285714, 0.28571429, 1.        ,\n",
       "         0.71428571, 1.14285714],\n",
       "        [0.71428571, 0.64285714, 1.07142857, 0.14285714, 0.5       ,\n",
       "         0.35714286, 0.57142857]]))"
      ]
     },
     "execution_count": 122,
     "metadata": {},
     "output_type": "execute_result"
    }
   ],
   "source": [
    "# define function for chi square\n",
    "from scipy.stats import chi2_contingency\n",
    "\n",
    "def chisq_of_df_cols(df, c1, c2):\n",
    "    groupsizes = df.groupby([c1, c2]).size()\n",
    "    ctsum = groupsizes.unstack(c1)\n",
    "    # fillna(0) is necessary to remove any NAs which will cause exceptions\n",
    "    return(chi2_contingency(ctsum.fillna(0)))\n",
    "\n",
    "\n",
    "chisq_of_df_cols(glassdoor, 'employees', 'revenue_range')\n",
    "\n",
    "#from statsmodels.graphics.mosaicplot import mosaic\n",
    "#dummy = mosaic(glassdoor, ['employees', 'revenue_range'], statistic=True, axes_label=False)\n",
    "#plt.figure(figsize = (30, 30), facecolor = None)\n",
    "\n",
    "#plt.savefig('mosaic.png')"
   ]
  },
  {
   "cell_type": "code",
   "execution_count": null,
   "metadata": {},
   "outputs": [],
   "source": [
    "# glassdoor company list\n",
    "list_comp = ['City of Farmington',\n",
    "\"Florida's Agency for Health Care Administration (FAHCA)\",\n",
    "'Health South-East RHF', \n",
    "'Onco360', \n",
    "'Adams Health Network', \n",
    "'Hancock Regional Hospital',\n",
    "'Singing River Health System', \n",
    "'Partners HealthCare System',\n",
    "'Smith Dental', \n",
    "'Decatur County General Hospital',\n",
    "'University of Virginia Health System (uvahealth.com)', \n",
    "'FastHealth', \n",
    "'Greyhealth Group', \n",
    "'Primary Health Care',\n",
    "\"St. Peter's Surgery & Endoscopy Center\", \n",
    "'ATI Physical Therapy',\n",
    "'Finger Lakes Health',\n",
    "'CareFirst BlueCross BlueShield',\n",
    "'Guardian Pharmacy of Jacksonville',\n",
    "'Texas Health Resources',\n",
    "'UnityPoint Health',\n",
    "\"California's Center for Orthopaedic Specialists (COS)\",\n",
    "'Sangamo Therapeutics',\n",
    "'Billings Clinic',\n",
    " 'The Oregon Clinic',\n",
    "'LifeBridge Health and LifeBridge Potomac Professionals',\n",
    "'Allied Physicians',\n",
    "'Aultman Health Foundation',\n",
    " 'MyHeritage',\n",
    "'RISE Wisconsin',\n",
    "'Elmcroft Senior Living', \n",
    "'HealthEquity',\n",
    "'Med Associates',\n",
    "'Black River Medical Center',\n",
    " 'Carepartners',\n",
    " 'Humana',\n",
    "'Emory Brain Health Center',\n",
    "'Barts health trust',\n",
    "'University of Maryland School of Medicine',\n",
    "'Sentara Healthcare',\n",
    "'Campbell County Health', \n",
    "'Verity Health System', 'NHS',\n",
    "'Citizens Memorial Hospital',\n",
    "'Lexington Medical Center',\n",
    "'Family Service Rochester',\n",
    "'Metropolitan Urology Group',\n",
    " 'ABCD Pediatrics',\n",
    "'Greenway Health',\n",
    "'Diamond Institute for Infertility and Menopause',\n",
    "'Prairie Mountain Health',\n",
    "'Fast Health', 'Waverly Health Center',\n",
    "'Cleveland Medical Associates', \n",
    "'Medicare',\n",
    "'University of Vermont Medical Center',\n",
    "'Plastic Surgery Associates',\n",
    "'Kaleida Health',\n",
    "'Surgical Dermatology Group',\n",
    "'Pacific Alliance Medical Center', \n",
    "'Medical Oncology Hematology Consultants',\n",
    "'Hand Rehabilitation Specialists',\n",
    "'Community Memorial Health System',\n",
    "'Children’s Hospital Colorado',\n",
    "'Augusta Medical Center',\n",
    "'Morehead Memorial Hospital',\n",
    "'Rivermend Health',\n",
    "'Namaste Health Care',\n",
    "'Chase Brexton Health Care',\n",
    "'FirstHealth',\n",
    "'Catholic Charities',\n",
    "'UPMC Susquehanna',\n",
    "'Baptist Health Louisville',\n",
    "'Colorado Center for Reproductive Medicine Minneapolis',\n",
    "'Henry Ford Health System',\n",
    "'Sinai Health System',\n",
    "'Midland Memorial Hospital',\n",
    "'Medhost',\n",
    "'Colorado Mental Health Institute']\n",
    "len(list_comp)"
   ]
  },
  {
   "cell_type": "code",
   "execution_count": null,
   "metadata": {},
   "outputs": [],
   "source": [
    "# urls for glassdoor scraping\n",
    "urls = [\"https://www.glassdoor.com/Overview/Working-at-City-of-Farmington-NM-EI_IE665372.11,32.htm\",\n",
    "\"https://www.glassdoor.com/Overview/Working-at-AHCA-EI_IE41744.11,15.htm\",\n",
    "\"https://www.glassdoor.com/Overview/Working-at-South-East-Alaska-Regional-Health-Consortium-EI_IE634972.11,55.htm\",\n",
    "\"https://www.glassdoor.com/Overview/Working-at-Onco360-EI_IE964733.11,18.htm\",\n",
    "\"https://www.glassdoor.com/Overview/Working-at-Adams-Health-Network-EI_IE884998.11,31.htm\",\n",
    "\"https://www.glassdoor.com/Overview/Working-at-Hancock-Regional-Hospital-EI_IE121713.11,36.htm\",\n",
    "\"https://www.glassdoor.com/Overview/Working-at-Singing-River-Health-System-EI_IE672078.11,38.htm\",\n",
    "\"https://www.glassdoor.com/Overview/Working-at-Partners-HealthCare-EI_IE6284.11,30.htm\",\n",
    "\"https://www.glassdoor.com/Overview/Working-at-Smith-Dental-EI_IE1724350.11,23.htm\",\n",
    "\"https://www.glassdoor.com/Overview/Working-at-Decatur-County-General-Hospital-EI_IE1632723.11,42.htm\",\n",
    "\"https://www.glassdoor.com/Overview/Working-at-University-of-Virginia-Health-System-EI_IE19755.11,47.htm\",\n",
    "\"https://www.glassdoor.com/Overview/Working-at-FastHealth-EI_IE1351010.11,21.htm\",\n",
    "\"https://www.glassdoor.com/Overview/Working-at-greyhealth-group-EI_IE17361.11,27.htm\",\n",
    "\"https://www.glassdoor.com/Overview/Working-at-Primary-Health-Care-EI_IE702406.11,30.htm\",\n",
    "\"https://www.glassdoor.com/Overview/Working-at-St-Peter-s-Hospital-EI_IE306840.11,30.htm\",\n",
    "\"https://www.glassdoor.com/Overview/Working-at-ATI-Physical-Therapy-EI_IE299225.11,31.htm\",\n",
    "\"https://www.glassdoor.com/Overview/Working-at-Finger-Lakes-Health-EI_IE853044.11,30.htm\",\n",
    "\"https://www.glassdoor.com/Overview/Working-at-CareFirst-BlueCross-BlueShield-EI_IE269607.11,41.htm\",\n",
    "\"https://www.glassdoor.com/Overview/Working-at-Guardian-Pharmacy-EI_IE342332.11,28.htm\",\n",
    "\"https://www.glassdoor.com/Overview/Working-at-Texas-Health-Resources-EI_IE7647.11,33.htm\",\n",
    "\"https://www.glassdoor.com/Overview/Working-at-UnityPoint-Health-EI_IE18460.11,28.htm\",\n",
    "\"https://www.glassdoor.com/Overview/Working-at-Center-for-Orthopaedic-Specialists-EI_IE1184436.11,45.htm\",\n",
    "\"https://www.glassdoor.com/Overview/Working-at-Sangamo-Therapeutics-EI_IE11523.11,31.htm\",\n",
    "\"https://www.glassdoor.com/Overview/Working-at-Billings-Clinic-EI_IE17438.11,26.htm\",\n",
    "\"https://www.glassdoor.com/Overview/Working-at-The-Oregon-Clinic-EI_IE264257.11,28.htm\",\n",
    "\"https://www.glassdoor.com/Overview/Working-at-LifeBridge-Health-EI_IE21518.11,28.htm\",\n",
    "\"https://www.glassdoor.com/Overview/Working-at-Allied-Physicians-Group-EI_IE1159475.11,34.htm\",\n",
    "\"https://www.glassdoor.com/Overview/Working-at-Aultman-Health-Foundation-EI_IE18927.11,36.htm\",\n",
    "\"https://www.glassdoor.com/Overview/Working-at-MyHeritage-EI_IE765167.11,21.htm\",\n",
    "\"https://www.glassdoor.com/Overview/Working-at-RISE-WI-EI_IE1947812.11,18.htm\",\n",
    "\"https://www.glassdoor.com/Overview/Working-at-Elmcroft-Senior-Living-EI_IE651530.11,33.htm\",\n",
    "\"https://www.glassdoor.com/Overview/Working-at-HealthEquity-Inc-EI_IE199470.11,27.htm\",\n",
    "\"https://www.glassdoor.com/Overview/Working-at-Med-Associates-EI_IE653608.11,25.htm\",\n",
    "\"https://www.glassdoor.com/Overview/Working-at-Black-River-Medical-Center-EI_IE1833449.11,37.htm\",\n",
    "\"https://www.glassdoor.com/Overview/Working-at-CarePartners-EI_IE453635.11,23.htm\",\n",
    "\"https://www.glassdoor.com/Overview/Working-at-Humana-EI_IE340.11,17.htm\",\n",
    "\"https://www.glassdoor.com/Overview/Working-at-Emory-Healthcare-EI_IE19564.11,27.htm\",\n",
    "\"https://www.glassdoor.com/Overview/Working-at-Barts-Health-NHS-Trust-EI_IE694160.11,33.htm\",\n",
    "\"https://www.glassdoor.com/Overview/Working-at-University-of-Maryland-School-of-Medicine-EI_IE507044.11,52.htm\",\n",
    "\"https://www.glassdoor.com/Overview/Working-at-Sentara-Healthcare-EI_IE4681.11,29.htm\",\n",
    "\"https://www.glassdoor.com/Overview/Working-at-Campbell-County-Memorial-Hospital-EI_IE121465.11,44.htm\",\n",
    "\"https://www.glassdoor.com/Overview/Working-at-Verity-Health-System-EI_IE1199906.11,31.htm\",\n",
    "\"https://www.glassdoor.com/Overview/Working-at-NHS-EI_IE12873.11,14.htm\",\n",
    "\"https://www.glassdoor.com/Overview/Working-at-Citizens-Memorial-Healthcare-EI_IE261939.11,39.htm\",\n",
    "\"https://www.glassdoor.com/Overview/Working-at-Lexington-Medical-Center-EI_IE19688.11,35.htm\",\n",
    "\"https://www.glassdoor.com/Overview/Working-at-Family-Service-EI_IE145040.11,25.htm\",\n",
    "\"https://www.glassdoor.com/Overview/Working-at-Metropolitan-Urological-Specialists-EI_IE1012379.11,46.htm\",\n",
    "\"https://www.glassdoor.com/Overview/Working-at-ABCD-Pediatrics-EI_IE1588325.11,26.htm\",\n",
    "\"https://www.glassdoor.com/Overview/Working-at-Greenway-Health-EI_IE17401.11,26.htm\",\n",
    "\"https://www.glassdoor.com/Overview/Working-at-Diamond-Institute-for-Infertil-EI_IE280481.11,41.htm\",\n",
    "\"https://www.glassdoor.com/Overview/Working-at-Prairie-Mountain-Health-EI_IE1093978.11,34.htm\",\n",
    "\"https://www.glassdoor.com/Overview/Working-at-FastHealth-EI_IE1351010.11,21.htm\",\n",
    "\"https://www.glassdoor.com/Overview/Working-at-Cleveland-Medical-EI_IE30168.11,28.htm\",\n",
    "\"https://www.glassdoor.com/Overview/Working-at-Centers-for-Medicare-and-Medicaid-Services-EI_IE13285.11,53.htm\",\n",
    "\"https://www.glassdoor.com/Overview/Working-at-The-University-of-Vermont-Medical-Center-EI_IE920836.11,51.htm\",\n",
    "\"https://www.glassdoor.com/Overview/Working-at-Associates-in-Plastic-Surgery-EI_IE1173658.11,40.htm\",\n",
    "\"https://www.glassdoor.com/Overview/Working-at-Kaleida-Health-EI_IE19488.11,25.htm\",\n",
    "\"https://www.glassdoor.com/Overview/Working-at-Surgical-Dermatology-and-Laser-Center-EI_IE1614647.11,48.htm\",\n",
    "\"https://www.glassdoor.com/Overview/Working-at-Pacific-Alliance-Medical-Center-EI_IE2037451.11,42.htm\",\n",
    "\"https://www.glassdoor.com/Overview/Working-at-Medical-Oncology-Hematology-Consultants-EI_IE1465366.11,50.htm\",\n",
    "\"https://www.glassdoor.com/Overview/Working-at-Hand-Rehabilitation-Specialists-EI_IE706598.11,42.htm\",\n",
    "\"https://www.glassdoor.com/Overview/Working-at-Community-Memorial-Health-System-EI_IE457569.11,43.htm\",\n",
    "\"https://www.glassdoor.com/Overview/Working-at-Children-s-Hospital-Colorado-EI_IE18618.11,39.htm\",\n",
    "\"https://www.glassdoor.com/Overview/Working-at-Augusta-Medical-Center-EI_IE121434.11,33.htm\",\n",
    "\"https://www.glassdoor.com/Overview/Working-at-Morehead-Memorial-Hospital-EI_IE27535.11,37.htm\",\n",
    "\"https://www.glassdoor.com/Overview/Working-at-RiverMend-Health-EI_IE795594.11,27.htm\",\n",
    "\"https://www.glassdoor.com/Overview/Working-at-Namaste-Home-Health-and-Hospice-EI_IE445072.11,42.htm\",\n",
    "\"https://www.glassdoor.com/Overview/Working-at-Chase-Brexton-Health-Care-EI_IE355869.11,36.htm\",\n",
    "\"https://www.glassdoor.com/Overview/Working-at-FirstHealth-of-the-Carolinas-EI_IE18976.11,39.htm\",\n",
    "\"https://www.glassdoor.com/Overview/Working-at-Catholic-Charities-USA-EI_IE23851.11,33.htm\",\n",
    "\"https://www.glassdoor.com/Overview/Working-at-Susquehanna-Health-EI_IE193360.11,29.htm\",\n",
    "\"https://www.glassdoor.com/Overview/Working-at-Baptist-Health-Kentucky-EI_IE17966.11,34.htm\",\n",
    "\"https://www.glassdoor.com/Overview/Working-at-CCRM-Management-Company-EI_IE618005.11,34.htm\",\n",
    "\"https://www.glassdoor.com/Overview/Working-at-Henry-Ford-Health-System-EI_IE4660.11,35.htm\",\n",
    "\"https://www.glassdoor.com/Overview/Working-at-Sinai-Health-System-EI_IE27975.11,30.htm\",\n",
    "\"https://www.glassdoor.com/Overview/Working-at-Midland-Memorial-Hospital-EI_IE121567.11,36.htm\",\n",
    "\"https://www.glassdoor.com/Overview/Working-at-MEDHOST-EI_IE355524.11,18.htm\",\n",
    "\"https://www.glassdoor.com/Reviews/colorado-mental-health-institute-reviews-SRCH_KE0,32.htm\"]\n",
    "\n",
    "len(urls)"
   ]
  }
 ],
 "metadata": {
  "kernelspec": {
   "display_name": "Python 3",
   "language": "python",
   "name": "python3"
  },
  "language_info": {
   "codemirror_mode": {
    "name": "ipython",
    "version": 3
   },
   "file_extension": ".py",
   "mimetype": "text/x-python",
   "name": "python",
   "nbconvert_exporter": "python",
   "pygments_lexer": "ipython3",
   "version": "3.6.4"
  }
 },
 "nbformat": 4,
 "nbformat_minor": 2
}
